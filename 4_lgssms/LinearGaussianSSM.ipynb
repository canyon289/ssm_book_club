{
 "cells": [
  {
   "cell_type": "markdown",
   "id": "9c90c119-e03e-4296-8c67-21f28601866f",
   "metadata": {},
   "source": [
    "# Linear Gaussian SSM"
   ]
  },
  {
   "cell_type": "code",
   "execution_count": 184,
   "id": "69bb05ec-adc3-4834-b6da-36b7f7470d1e",
   "metadata": {},
   "outputs": [],
   "source": [
    "from jax import numpy as jnp\n",
    "from jax import random as jr\n",
    "from jax import vmap\n",
    "from matplotlib import pyplot as plt\n",
    "\n",
    "from dynamax.utils.plotting import plot_uncertainty_ellipses\n",
    "from dynamax.linear_gaussian_ssm import LinearGaussianSSM\n",
    "from dynamax.linear_gaussian_ssm import lgssm_smoother, lgssm_filter\n",
    "\n",
    "import numpy as np\n",
    "from scipy import stats"
   ]
  },
  {
   "cell_type": "markdown",
   "id": "ce63f823-02d8-42b1-b625-274811f83ee1",
   "metadata": {},
   "source": [
    "## GH Filters"
   ]
  },
  {
   "cell_type": "markdown",
   "id": "9b849574-f8a6-4503-a91c-c477861f55e5",
   "metadata": {},
   "source": [
    "Picking between what you saw and what you believe, and weighting between the two."
   ]
  },
  {
   "cell_type": "markdown",
   "id": "462e4ae0-b888-456e-8c42-f7a5f9747d61",
   "metadata": {},
   "source": [
    "## Bayesian Filters in Python"
   ]
  },
  {
   "cell_type": "code",
   "execution_count": 18,
   "id": "85758dfd-306b-4215-9843-50852173e2e2",
   "metadata": {},
   "outputs": [],
   "source": [
    "from collections import namedtuple\n",
    "gaussian = namedtuple('Gaussian', ['mean', 'var'])"
   ]
  },
  {
   "cell_type": "markdown",
   "id": "d1d9080c-5e28-4661-abc8-e85a40117963",
   "metadata": {},
   "source": [
    "### Constants"
   ]
  },
  {
   "cell_type": "code",
   "execution_count": 28,
   "id": "a476228e-dee5-4b8f-9133-22086156f1fe",
   "metadata": {},
   "outputs": [],
   "source": [
    " # variance in the sensor\n",
    ". # variance in the dog's movement\n",
    "\n",
    "dt = 1. # time step in seconds\n",
    "\n",
    "velocity = 1"
   ]
  },
  {
   "cell_type": "code",
   "execution_count": null,
   "id": "1a0390d8-c9b7-4f13-baea-58abf43f02d5",
   "metadata": {},
   "outputs": [],
   "source": [
    "def dog_move_generator(sensor_var = 2, process_var = 1, velocity = 1):\n",
    "    x0 = 0\n",
    "    dog_positions = stats.norm("
   ]
  },
  {
   "cell_type": "markdown",
   "id": "767b0afe-cfe8-4f57-b0b7-934956e0379c",
   "metadata": {},
   "source": [
    "### Observations\n",
    "Two sources of variation\n",
    "1. Where the dog moves to\n",
    "2. What the sensor reports"
   ]
  },
  {
   "cell_type": "code",
   "execution_count": 185,
   "id": "871100ba-83f6-4bb5-8fe4-fae72487d5d6",
   "metadata": {},
   "outputs": [],
   "source": [
    "dog_moves = [\n",
    "  1.3535959735108178,\n",
    "  1.8820653967131618,\n",
    "  4.341047429453569,\n",
    "  7.156332673205118,\n",
    "  6.938695089418526,\n",
    "  6.843912342028484,\n",
    "  9.846824080052299,\n",
    "  12.553482049375292,\n",
    "  16.2730841073834,\n",
    "  14.800411177015299]\n"
   ]
  },
  {
   "cell_type": "markdown",
   "id": "157bb14c-4859-4a54-be37-0403f1bc4db5",
   "metadata": {},
   "source": [
    "## Analytical Solution"
   ]
  },
  {
   "cell_type": "code",
   "execution_count": 40,
   "id": "3beb7754-7d7b-429e-80d3-b5a20f38a406",
   "metadata": {},
   "outputs": [
    {
     "name": "stdout",
     "output_type": "stream",
     "text": [
      "Gaussian(mean=0.0, var=400.0)\n",
      "Gaussian(mean=1.351841154783717, var=1.9900744416873448)\n",
      "Gaussian(mean=2.070349464840893, var=1.198408751864744)\n",
      "Gaussian(mean=3.7357238224806713, var=1.0472580836195666)\n",
      "Gaussian(mean=5.960160449584709, var=1.0116765678499313)\n",
      "Gaussian(mean=6.949396530475968, var=1.0029106453754295)\n",
      "Gaussian(mean=7.396252519656308, var=1.000727132237836)\n",
      "Gaussian(mean=9.121670120559637, var=1.0001817500203842)\n",
      "Gaussian(mean=11.337631330190714, var=1.000045435440623)\n",
      "Gaussian(mean=14.30538006966205, var=1.0000113587311334)\n",
      "Gaussian(mean=15.052894906364974, var=1.0000028396747196)\n"
     ]
    }
   ],
   "source": [
    "pos = gaussian(0., 20.**2)\n",
    "\n",
    "for z in dog_moves: #for z in zs:\n",
    "    print(pos)\n",
    "    dx = velocity*dt\n",
    "    \n",
    "    # pos = pos + dx\n",
    "    pos_mean = pos.mean + dx\n",
    "    pos_var = pos.var + process_var\n",
    "\n",
    "    # Likelihood update\n",
    "    # Weighted calculation of position \n",
    "    pos_updated  = (pos_var*z + sensor_var*pos_mean) / (pos_var + sensor_var)\n",
    "    \n",
    "    # Weighted calculation of variance\n",
    "    var_updated = (pos_var * sensor_var) / (pos_var + sensor_var)\n",
    "    pos = gaussian(pos_updated, var_updated)\n",
    "    \n",
    "print(pos)"
   ]
  },
  {
   "cell_type": "markdown",
   "id": "85d35999-a648-4ce3-92b3-d38530a97356",
   "metadata": {},
   "source": [
    "## Dynamax"
   ]
  },
  {
   "cell_type": "markdown",
   "id": "e5bf164e-bf57-4199-b720-834b4fb5b8aa",
   "metadata": {},
   "source": [
    "### Different Model Representations\n",
    "\n",
    "\\begin{align*}\n",
    "\\underbrace{\\begin{pmatrix} u_t\\\\ v_{t} \\end{pmatrix}}_{z_t}\n",
    "  = \n",
    "\\underbrace{\n",
    "\\begin{pmatrix}\n",
    "1 & \\Delta  \\\\\n",
    "0 & 1  \\\\\n",
    "\\end{pmatrix}\n",
    "}_{F}\n",
    "\\underbrace{\\begin{pmatrix} u_{t-1} \\\\ v_{t-1} \\end{pmatrix}}_{z_{t-1}}\n",
    "+ q_t\n",
    "\\end{align*}"
   ]
  },
  {
   "cell_type": "markdown",
   "id": "f6ce33f8-d558-40ea-83a2-c04a13fc98d5",
   "metadata": {},
   "source": [
    "\\begin{align*}\n",
    "\\underbrace{\\begin{pmatrix} u_t\\\\  \\end{pmatrix}}_{z_t}\n",
    "  = \n",
    "\\underbrace{\n",
    "\\begin{pmatrix}\n",
    "1 & \\Delta  \\\\\n",
    "\\end{pmatrix}\n",
    "}_{F}\n",
    "\\underbrace{\\begin{pmatrix} u_{t-1} \\\\ v \\end{pmatrix}}_{z_{t-1}}\n",
    "+ q_t\n",
    "\\end{align*}"
   ]
  },
  {
   "cell_type": "code",
   "execution_count": 194,
   "id": "5f0d78b5-6726-4cd1-ad0d-87003f20a5e9",
   "metadata": {},
   "outputs": [
    {
     "data": {
      "text/plain": [
       "ParamsLGSSM(initial=ParamsLGSSMInitial(mean=Array([5., 1.], dtype=float32), cov=Array([[4.e+02, 0.e+00],\n",
       "       [0.e+00, 1.e-04]], dtype=float32)), dynamics=ParamsLGSSMDynamics(weights=Array([[1., 1.],\n",
       "       [0., 1.]], dtype=float32), bias=Array([0., 0.], dtype=float32), input_weights=Array([], dtype=float32), cov=Array([[1.e-05, 0.e+00],\n",
       "       [0.e+00, 1.e-05]], dtype=float32)), emissions=ParamsLGSSMEmissions(weights=Array([[1., 0.]], dtype=float32), bias=Array([0.], dtype=float32), input_weights=Array([], dtype=float32), cov=Array([[1.]], dtype=float32)))"
      ]
     },
     "execution_count": 194,
     "metadata": {},
     "output_type": "execute_result"
    }
   ],
   "source": [
    "from jax import random as jr\n",
    "from dynamax.linear_gaussian_ssm import LinearGaussianSSM\n",
    "import jax.numpy as jnp\n",
    "\n",
    "\n",
    "state_dim = 2\n",
    "emission_dim = 1\n",
    "delta = 1\n",
    "\n",
    "# Create object\n",
    "lgssm = LinearGaussianSSM(state_dim, emission_dim)\n",
    "\n",
    "# What is emissions covariance\n",
    "params, _ = lgssm.initialize(jr.PRNGKey(0),\n",
    "                             initial_mean=jnp.array([5., 1]),\n",
    "                             initial_covariance=jnp.array([[400., 0],\n",
    "                                                           [0, .0001]]),\n",
    "                             \n",
    "                             # How the dog moves\n",
    "                             dynamics_weights=jnp.array([[1., delta],\n",
    "                                                        [0, 1]]),\n",
    "                             \n",
    "                             # we have very llttle randomness in the dog motion\n",
    "                             dynamics_covariance=jnp.eye(2) * .00001,\n",
    "\n",
    "                             # This one must be 2d\n",
    "                             # Only captures position not velocity\n",
    "                             emission_weights=jnp.atleast_2d(jnp.array([1., 0])),\n",
    "\n",
    "                             # Sensor variance\n",
    "                             emission_covariance=jnp.eye(emission_dim) * 1.0)\n",
    "\n",
    "# What is emissions covariance\n",
    "params"
   ]
  },
  {
   "cell_type": "markdown",
   "id": "4934afcb-6cb2-4343-b620-0e345fc2000e",
   "metadata": {},
   "source": [
    "### Prior Sampling"
   ]
  },
  {
   "cell_type": "code",
   "execution_count": 192,
   "id": "e4fd81e9-182b-4066-afcc-fdf39572384b",
   "metadata": {},
   "outputs": [
    {
     "name": "stdout",
     "output_type": "stream",
     "text": [
      "[[ 3.101236    0.9990914 ]\n",
      " [ 4.1004004   0.9958241 ]\n",
      " [ 5.095522    0.9901454 ]\n",
      " [ 6.0851226   0.98828197]\n",
      " [ 7.068449    0.9844679 ]\n",
      " [ 8.054393    0.9852507 ]\n",
      " [ 9.045076    0.9851691 ]\n",
      " [10.032094    0.9840263 ]\n",
      " [11.017527    0.9831087 ]\n",
      " [12.006382    0.98479354]]\n",
      "[[ 3.679385 ]\n",
      " [ 5.4920225]\n",
      " [ 4.6654873]\n",
      " [ 5.416491 ]\n",
      " [ 7.952854 ]\n",
      " [ 8.431994 ]\n",
      " [ 8.052618 ]\n",
      " [11.7541685]\n",
      " [10.083383 ]\n",
      " [10.730123 ]]\n"
     ]
    }
   ],
   "source": [
    "key = jr.PRNGKey(0)\n",
    "hidden_state, sampled_observations = lgssm.sample(params, key, 10)\n",
    "print(hidden_state)\n",
    "print(sampled_observations)"
   ]
  },
  {
   "cell_type": "code",
   "execution_count": null,
   "id": "c51a2e31-fd1e-4d47-b93d-1878a6f66a4e",
   "metadata": {},
   "outputs": [
    {
     "name": "stdout",
     "output_type": "stream",
     "text": [
      "[[ 1.3626891  1.       ]\n",
      " [ 2.1226652  0.9999759]\n",
      " [ 3.5285711  1.000106 ]\n",
      " [ 5.185849   1.0005527]\n",
      " [ 6.3371387  1.0007331]\n",
      " [ 7.2552023  1.000577 ]\n",
      " [ 8.484806   1.0012115]\n",
      " [ 9.874273   1.0027076]\n",
      " [11.488147   1.0058514]\n",
      " [12.731165   1.0074271]]\n"
     ]
    }
   ],
   "source": [
    "lgssm_posterior = lgssm.filter(params, jnp.array(dog_moves))\n",
    "print(lgssm_posterior.filtered_means)"
   ]
  },
  {
   "cell_type": "code",
   "execution_count": 195,
   "id": "1feea936-815f-4edf-a8ac-eff35de5a1ee",
   "metadata": {},
   "outputs": [
    {
     "name": "stdout",
     "output_type": "stream",
     "text": [
      "[[ 1.3626891  1.       ]\n",
      " [ 2.1226652  0.9999759]\n",
      " [ 3.5285711  1.000106 ]\n",
      " [ 5.185849   1.0005527]\n",
      " [ 6.3371387  1.0007331]\n",
      " [ 7.2552023  1.000577 ]\n",
      " [ 8.484806   1.0012115]\n",
      " [ 9.874273   1.0027076]\n",
      " [11.488147   1.0058514]\n",
      " [12.731165   1.0074271]]\n"
     ]
    }
   ],
   "source": [
    "lgssm_posterior = lgssm.filter(params, jnp.array(dog_moves))\n",
    "print(lgssm_posterior.filtered_means)"
   ]
  },
  {
   "cell_type": "markdown",
   "id": "c4f73ed9-fc6d-4715-93be-10a8b8cf6555",
   "metadata": {},
   "source": [
    "### Dynamax learnings\n",
    "1. Documentation can be wrong\n",
    "2. Dynamax is real picky about shapes"
   ]
  }
 ],
 "metadata": {
  "kernelspec": {
   "display_name": "Python 3 (ipykernel)",
   "language": "python",
   "name": "python3"
  },
  "language_info": {
   "codemirror_mode": {
    "name": "ipython",
    "version": 3
   },
   "file_extension": ".py",
   "mimetype": "text/x-python",
   "name": "python",
   "nbconvert_exporter": "python",
   "pygments_lexer": "ipython3",
   "version": "3.10.4"
  }
 },
 "nbformat": 4,
 "nbformat_minor": 5
}
