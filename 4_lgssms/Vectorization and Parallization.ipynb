{
 "cells": [
  {
   "cell_type": "markdown",
   "id": "3effc136-00e7-435f-92bd-ca2c7027ac50",
   "metadata": {},
   "source": [
    "# Jax Vectorization and Parallelization"
   ]
  },
  {
   "cell_type": "markdown",
   "id": "74c329bf-b690-459b-a98f-bb1bac41467f",
   "metadata": {},
   "source": [
    "## Two styles\n",
    "* Vmap\n",
    "* Pmap"
   ]
  },
  {
   "cell_type": "markdown",
   "id": "dc4dbeae-96cf-4f84-b4cd-31c357ab2e08",
   "metadata": {},
   "source": [
    "## What if we had a lot of dogs?\n",
    "and a lot of sensors?"
   ]
  },
  {
   "cell_type": "markdown",
   "id": "d6e06960",
   "metadata": {},
   "source": [
    "## Parallel Inference In Dynamax\n",
    "\n",
    "* https://probml.github.io/dynamax/notebooks/linear_gaussian_ssm/lgssm_parallel_inference.html\n",
    "* https://github.com/probml/dynamax/blob/main/dynamax/linear_gaussian_ssm/parallel_inference.py#L89"
   ]
  },
  {
   "cell_type": "markdown",
   "id": "aa2afc38-7e2c-42be-8020-e57d7e757ed8",
   "metadata": {},
   "source": [
    "## Docs\n",
    "* https://jax.readthedocs.io/en/latest/jax-101/03-vectorization.html\n",
    "* https://jax.readthedocs.io/en/latest/jax-101/06-parallelism.html"
   ]
  },
  {
   "cell_type": "markdown",
   "id": "21e5f8de-764a-4bbc-804c-6d1471797165",
   "metadata": {},
   "source": [
    "Conceptually, this is not very different from vectorisation, where the same operations occur in parallel in different parts of memory on the same device. We have already seen that vectorisation is supported in JAX as a program transformation, jax.vmap. JAX supports device parallelism analogously, using jax.pmap to transform a function written for one device into a function that runs in parallel on multiple devices. This colab will teach you all about it."
   ]
  }
 ],
 "metadata": {
  "kernelspec": {
   "display_name": "Python 3 (ipykernel)",
   "language": "python",
   "name": "python3"
  },
  "language_info": {
   "codemirror_mode": {
    "name": "ipython",
    "version": 3
   },
   "file_extension": ".py",
   "mimetype": "text/x-python",
   "name": "python",
   "nbconvert_exporter": "python",
   "pygments_lexer": "ipython3",
   "version": "3.9.16"
  }
 },
 "nbformat": 4,
 "nbformat_minor": 5
}
