{
 "cells": [
  {
   "cell_type": "markdown",
   "id": "4a01c893",
   "metadata": {},
   "source": [
    "# HMM for Stock Data\n",
    "https://hmmlearn.readthedocs.io/en/0.2.0/auto_examples/plot_hmm_stock_analysis.html\n",
    "\n",
    "## References\n",
    "https://www.inf.ed.ac.uk/teaching/courses/asr/2016-17/asr03-hmmgmm-handout.pdf"
   ]
  },
  {
   "cell_type": "code",
   "execution_count": 2,
   "id": "64441021",
   "metadata": {
    "scrolled": true
   },
   "outputs": [
    {
     "name": "stdout",
     "output_type": "stream",
     "text": [
      "Requirement already satisfied: yfinance in /home/canyon/miniconda3/envs/ssm_book_club/lib/python3.10/site-packages (0.2.12)\n",
      "Requirement already satisfied: pytz>=2022.5 in /home/canyon/miniconda3/envs/ssm_book_club/lib/python3.10/site-packages (from yfinance) (2022.7.1)\n",
      "Requirement already satisfied: beautifulsoup4>=4.11.1 in /home/canyon/miniconda3/envs/ssm_book_club/lib/python3.10/site-packages (from yfinance) (4.11.2)\n",
      "Requirement already satisfied: requests>=2.26 in /home/canyon/miniconda3/envs/ssm_book_club/lib/python3.10/site-packages (from yfinance) (2.28.2)\n",
      "Requirement already satisfied: lxml>=4.9.1 in /home/canyon/miniconda3/envs/ssm_book_club/lib/python3.10/site-packages (from yfinance) (4.9.2)\n",
      "Requirement already satisfied: appdirs>=1.4.4 in /home/canyon/miniconda3/envs/ssm_book_club/lib/python3.10/site-packages (from yfinance) (1.4.4)\n",
      "Requirement already satisfied: frozendict>=2.3.4 in /home/canyon/miniconda3/envs/ssm_book_club/lib/python3.10/site-packages (from yfinance) (2.3.5)\n",
      "Requirement already satisfied: html5lib>=1.1 in /home/canyon/miniconda3/envs/ssm_book_club/lib/python3.10/site-packages (from yfinance) (1.1)\n",
      "Requirement already satisfied: numpy>=1.16.5 in /home/canyon/miniconda3/envs/ssm_book_club/lib/python3.10/site-packages (from yfinance) (1.24.1)\n",
      "Requirement already satisfied: pandas>=1.3.0 in /home/canyon/miniconda3/envs/ssm_book_club/lib/python3.10/site-packages (from yfinance) (1.5.3)\n",
      "Requirement already satisfied: multitasking>=0.0.7 in /home/canyon/miniconda3/envs/ssm_book_club/lib/python3.10/site-packages (from yfinance) (0.0.11)\n",
      "Requirement already satisfied: cryptography>=3.3.2 in /home/canyon/miniconda3/envs/ssm_book_club/lib/python3.10/site-packages (from yfinance) (39.0.0)\n",
      "Requirement already satisfied: soupsieve>1.2 in /home/canyon/miniconda3/envs/ssm_book_club/lib/python3.10/site-packages (from beautifulsoup4>=4.11.1->yfinance) (2.3.2.post1)\n",
      "Requirement already satisfied: cffi>=1.12 in /home/canyon/miniconda3/envs/ssm_book_club/lib/python3.10/site-packages (from cryptography>=3.3.2->yfinance) (1.15.1)\n",
      "Requirement already satisfied: webencodings in /home/canyon/miniconda3/envs/ssm_book_club/lib/python3.10/site-packages (from html5lib>=1.1->yfinance) (0.5.1)\n",
      "Requirement already satisfied: six>=1.9 in /home/canyon/miniconda3/envs/ssm_book_club/lib/python3.10/site-packages (from html5lib>=1.1->yfinance) (1.16.0)\n",
      "Requirement already satisfied: python-dateutil>=2.8.1 in /home/canyon/miniconda3/envs/ssm_book_club/lib/python3.10/site-packages (from pandas>=1.3.0->yfinance) (2.8.2)\n",
      "Requirement already satisfied: idna<4,>=2.5 in /home/canyon/miniconda3/envs/ssm_book_club/lib/python3.10/site-packages (from requests>=2.26->yfinance) (3.4)\n",
      "Requirement already satisfied: charset-normalizer<4,>=2 in /home/canyon/miniconda3/envs/ssm_book_club/lib/python3.10/site-packages (from requests>=2.26->yfinance) (2.1.1)\n",
      "Requirement already satisfied: certifi>=2017.4.17 in /home/canyon/miniconda3/envs/ssm_book_club/lib/python3.10/site-packages (from requests>=2.26->yfinance) (2022.12.7)\n",
      "Requirement already satisfied: urllib3<1.27,>=1.21.1 in /home/canyon/miniconda3/envs/ssm_book_club/lib/python3.10/site-packages (from requests>=2.26->yfinance) (1.26.14)\n",
      "Requirement already satisfied: pycparser in /home/canyon/miniconda3/envs/ssm_book_club/lib/python3.10/site-packages (from cffi>=1.12->cryptography>=3.3.2->yfinance) (2.21)\n"
     ]
    }
   ],
   "source": [
    "!pip install yfinance;"
   ]
  },
  {
   "cell_type": "code",
   "execution_count": 3,
   "id": "30f611cb",
   "metadata": {},
   "outputs": [],
   "source": [
    "import datetime\n",
    "\n",
    "import numpy as np\n",
    "from matplotlib import cm, pyplot as plt\n",
    "from matplotlib.dates import YearLocator, MonthLocator\n",
    "import yfinance as yf"
   ]
  },
  {
   "cell_type": "code",
   "execution_count": 4,
   "id": "aa13f671",
   "metadata": {},
   "outputs": [
    {
     "data": {
      "text/plain": [
       "2021-10-23 00:00:00-04:00    4067000064\n",
       "2021-10-26 00:00:00-04:00    4067000064\n",
       "2021-11-05 00:00:00-04:00    4073469952\n",
       "2021-11-06 00:00:00-04:00    4067000064\n",
       "2021-11-11 00:00:00-05:00    4102249984\n",
       "2021-11-11 00:00:00-05:00    4067000064\n",
       "2021-11-18 00:00:00-05:00    4097769984\n",
       "2021-11-18 00:00:00-05:00    4067000064\n",
       "2021-11-20 00:00:00-05:00    4067000064\n",
       "2021-11-20 00:00:00-05:00    4080140032\n",
       "2021-12-02 00:00:00-05:00    4117210112\n",
       "2021-12-03 00:00:00-05:00    4067000064\n",
       "2021-12-04 00:00:00-05:00    4087640064\n",
       "2021-12-04 00:00:00-05:00    4067000064\n",
       "2022-01-26 00:00:00-05:00    4141959936\n",
       "2022-01-27 00:00:00-05:00    4067000064\n",
       "2022-01-28 00:00:00-05:00    4072000000\n",
       "2022-02-04 00:00:00-05:00    4175739904\n",
       "2022-02-05 00:00:00-05:00    4072000000\n",
       "2022-02-11 00:00:00-05:00    4072000000\n",
       "2022-03-04 00:00:00-05:00    4151859968\n",
       "2022-03-05 00:00:00-05:00    4072000000\n",
       "2022-03-15 00:00:00-04:00    4203150080\n",
       "2022-03-17 00:00:00-04:00    4164689920\n",
       "2022-03-18 00:00:00-04:00    4072000000\n",
       "2022-04-02 00:00:00-04:00    4088699904\n",
       "2022-05-03 00:00:00-04:00    4088999936\n",
       "2022-05-05 00:00:00-04:00    4088999936\n",
       "2022-06-03 00:00:00-04:00    4156669952\n",
       "2022-06-05 00:00:00-04:00    4088999936\n",
       "2022-06-07 00:00:00-04:00    4093720064\n",
       "2022-06-08 00:00:00-04:00    4088999936\n",
       "2022-07-30 00:00:00-04:00    4105999872\n",
       "2022-08-02 00:00:00-04:00    4105999872\n",
       "2022-08-05 00:00:00-04:00    4205019904\n",
       "2022-08-06 00:00:00-04:00    4105999872\n",
       "2022-08-25 00:00:00-04:00    4116910080\n",
       "2022-08-26 00:00:00-04:00    4105999872\n",
       "2022-09-01 00:00:00-04:00    4105999872\n",
       "2022-09-03 00:00:00-04:00    4177019904\n",
       "2022-09-03 00:00:00-04:00    4105999872\n",
       "2022-10-29 00:00:00-04:00    4127000064\n",
       "2022-11-01 00:00:00-04:00    4127000064\n",
       "2022-11-22 00:00:00-05:00    4127000064\n",
       "2022-11-22 00:00:00-05:00    4259620096\n",
       "2022-11-25 00:00:00-05:00    4127000064\n",
       "2022-11-25 00:00:00-05:00    4147859968\n",
       "2023-01-29 00:00:00-05:00    4136999936\n",
       "2023-01-31 00:00:00-05:00    4136999936\n",
       "dtype: int64"
      ]
     },
     "execution_count": 4,
     "metadata": {},
     "output_type": "execute_result"
    }
   ],
   "source": [
    "INTC = yf.Ticker(\"INTC\")\n",
    "INTC.get_shares_full()"
   ]
  },
  {
   "cell_type": "code",
   "execution_count": 5,
   "id": "5bf2d1dc",
   "metadata": {},
   "outputs": [],
   "source": [
    "hist = INTC.history(start=\"1995-01-01\", end=\"2012-01-06\")\n",
    "hist.to_csv(\"stockprices.csv\")"
   ]
  },
  {
   "cell_type": "code",
   "execution_count": 6,
   "id": "3e60ade6",
   "metadata": {},
   "outputs": [
    {
     "data": {
      "text/html": [
       "<div>\n",
       "<style scoped>\n",
       "    .dataframe tbody tr th:only-of-type {\n",
       "        vertical-align: middle;\n",
       "    }\n",
       "\n",
       "    .dataframe tbody tr th {\n",
       "        vertical-align: top;\n",
       "    }\n",
       "\n",
       "    .dataframe thead th {\n",
       "        text-align: right;\n",
       "    }\n",
       "</style>\n",
       "<table border=\"1\" class=\"dataframe\">\n",
       "  <thead>\n",
       "    <tr style=\"text-align: right;\">\n",
       "      <th></th>\n",
       "      <th>Open</th>\n",
       "      <th>High</th>\n",
       "      <th>Low</th>\n",
       "      <th>Close</th>\n",
       "      <th>Volume</th>\n",
       "      <th>Dividends</th>\n",
       "      <th>Stock Splits</th>\n",
       "    </tr>\n",
       "    <tr>\n",
       "      <th>Date</th>\n",
       "      <th></th>\n",
       "      <th></th>\n",
       "      <th></th>\n",
       "      <th></th>\n",
       "      <th></th>\n",
       "      <th></th>\n",
       "      <th></th>\n",
       "    </tr>\n",
       "  </thead>\n",
       "  <tbody>\n",
       "    <tr>\n",
       "      <th>1995-01-03 00:00:00-05:00</th>\n",
       "      <td>2.291885</td>\n",
       "      <td>2.305956</td>\n",
       "      <td>2.269371</td>\n",
       "      <td>2.296387</td>\n",
       "      <td>41721600</td>\n",
       "      <td>0.0</td>\n",
       "      <td>0.0</td>\n",
       "    </tr>\n",
       "    <tr>\n",
       "      <th>1995-01-04 00:00:00-05:00</th>\n",
       "      <td>2.305393</td>\n",
       "      <td>2.318901</td>\n",
       "      <td>2.278376</td>\n",
       "      <td>2.291885</td>\n",
       "      <td>41865600</td>\n",
       "      <td>0.0</td>\n",
       "      <td>0.0</td>\n",
       "    </tr>\n",
       "    <tr>\n",
       "      <th>1995-01-05 00:00:00-05:00</th>\n",
       "      <td>2.296388</td>\n",
       "      <td>2.341415</td>\n",
       "      <td>2.291885</td>\n",
       "      <td>2.309896</td>\n",
       "      <td>60480000</td>\n",
       "      <td>0.0</td>\n",
       "      <td>0.0</td>\n",
       "    </tr>\n",
       "    <tr>\n",
       "      <th>1995-01-06 00:00:00-05:00</th>\n",
       "      <td>2.309895</td>\n",
       "      <td>2.345917</td>\n",
       "      <td>2.305392</td>\n",
       "      <td>2.341414</td>\n",
       "      <td>56316800</td>\n",
       "      <td>0.0</td>\n",
       "      <td>0.0</td>\n",
       "    </tr>\n",
       "    <tr>\n",
       "      <th>1995-01-09 00:00:00-05:00</th>\n",
       "      <td>2.336910</td>\n",
       "      <td>2.377434</td>\n",
       "      <td>2.336910</td>\n",
       "      <td>2.377434</td>\n",
       "      <td>75056000</td>\n",
       "      <td>0.0</td>\n",
       "      <td>0.0</td>\n",
       "    </tr>\n",
       "    <tr>\n",
       "      <th>...</th>\n",
       "      <td>...</td>\n",
       "      <td>...</td>\n",
       "      <td>...</td>\n",
       "      <td>...</td>\n",
       "      <td>...</td>\n",
       "      <td>...</td>\n",
       "      <td>...</td>\n",
       "    </tr>\n",
       "    <tr>\n",
       "      <th>2011-12-29 00:00:00-05:00</th>\n",
       "      <td>17.248898</td>\n",
       "      <td>17.404675</td>\n",
       "      <td>17.192251</td>\n",
       "      <td>17.383432</td>\n",
       "      <td>22319300</td>\n",
       "      <td>0.0</td>\n",
       "      <td>0.0</td>\n",
       "    </tr>\n",
       "    <tr>\n",
       "      <th>2011-12-30 00:00:00-05:00</th>\n",
       "      <td>17.298470</td>\n",
       "      <td>17.433006</td>\n",
       "      <td>17.171015</td>\n",
       "      <td>17.171015</td>\n",
       "      <td>21710100</td>\n",
       "      <td>0.0</td>\n",
       "      <td>0.0</td>\n",
       "    </tr>\n",
       "    <tr>\n",
       "      <th>2012-01-03 00:00:00-05:00</th>\n",
       "      <td>17.433012</td>\n",
       "      <td>17.624194</td>\n",
       "      <td>17.270152</td>\n",
       "      <td>17.376366</td>\n",
       "      <td>44845600</td>\n",
       "      <td>0.0</td>\n",
       "      <td>0.0</td>\n",
       "    </tr>\n",
       "    <tr>\n",
       "      <th>2012-01-04 00:00:00-05:00</th>\n",
       "      <td>17.397601</td>\n",
       "      <td>17.794127</td>\n",
       "      <td>17.369278</td>\n",
       "      <td>17.779966</td>\n",
       "      <td>47504000</td>\n",
       "      <td>0.0</td>\n",
       "      <td>0.0</td>\n",
       "    </tr>\n",
       "    <tr>\n",
       "      <th>2012-01-05 00:00:00-05:00</th>\n",
       "      <td>17.744561</td>\n",
       "      <td>18.020715</td>\n",
       "      <td>17.687915</td>\n",
       "      <td>17.985310</td>\n",
       "      <td>49490600</td>\n",
       "      <td>0.0</td>\n",
       "      <td>0.0</td>\n",
       "    </tr>\n",
       "  </tbody>\n",
       "</table>\n",
       "<p>4285 rows × 7 columns</p>\n",
       "</div>"
      ],
      "text/plain": [
       "                                Open       High        Low      Close  \\\n",
       "Date                                                                    \n",
       "1995-01-03 00:00:00-05:00   2.291885   2.305956   2.269371   2.296387   \n",
       "1995-01-04 00:00:00-05:00   2.305393   2.318901   2.278376   2.291885   \n",
       "1995-01-05 00:00:00-05:00   2.296388   2.341415   2.291885   2.309896   \n",
       "1995-01-06 00:00:00-05:00   2.309895   2.345917   2.305392   2.341414   \n",
       "1995-01-09 00:00:00-05:00   2.336910   2.377434   2.336910   2.377434   \n",
       "...                              ...        ...        ...        ...   \n",
       "2011-12-29 00:00:00-05:00  17.248898  17.404675  17.192251  17.383432   \n",
       "2011-12-30 00:00:00-05:00  17.298470  17.433006  17.171015  17.171015   \n",
       "2012-01-03 00:00:00-05:00  17.433012  17.624194  17.270152  17.376366   \n",
       "2012-01-04 00:00:00-05:00  17.397601  17.794127  17.369278  17.779966   \n",
       "2012-01-05 00:00:00-05:00  17.744561  18.020715  17.687915  17.985310   \n",
       "\n",
       "                             Volume  Dividends  Stock Splits  \n",
       "Date                                                          \n",
       "1995-01-03 00:00:00-05:00  41721600        0.0           0.0  \n",
       "1995-01-04 00:00:00-05:00  41865600        0.0           0.0  \n",
       "1995-01-05 00:00:00-05:00  60480000        0.0           0.0  \n",
       "1995-01-06 00:00:00-05:00  56316800        0.0           0.0  \n",
       "1995-01-09 00:00:00-05:00  75056000        0.0           0.0  \n",
       "...                             ...        ...           ...  \n",
       "2011-12-29 00:00:00-05:00  22319300        0.0           0.0  \n",
       "2011-12-30 00:00:00-05:00  21710100        0.0           0.0  \n",
       "2012-01-03 00:00:00-05:00  44845600        0.0           0.0  \n",
       "2012-01-04 00:00:00-05:00  47504000        0.0           0.0  \n",
       "2012-01-05 00:00:00-05:00  49490600        0.0           0.0  \n",
       "\n",
       "[4285 rows x 7 columns]"
      ]
     },
     "execution_count": 6,
     "metadata": {},
     "output_type": "execute_result"
    }
   ],
   "source": [
    "hist"
   ]
  },
  {
   "cell_type": "code",
   "execution_count": 7,
   "id": "bd4b0fbe",
   "metadata": {},
   "outputs": [
    {
     "data": {
      "text/plain": [
       "<AxesSubplot: xlabel='Date'>"
      ]
     },
     "execution_count": 7,
     "metadata": {},
     "output_type": "execute_result"
    },
    {
     "data": {
      "image/png": "[encoded data removed]",
      "text/plain": [
       "<Figure size 640x480 with 1 Axes>"
      ]
     },
     "metadata": {},
     "output_type": "display_data"
    }
   ],
   "source": [
    "hist.reset_index().plot(x=\"Date\", y=\"Open\")"
   ]
  },
  {
   "cell_type": "code",
   "execution_count": 8,
   "id": "d0c29bc9",
   "metadata": {},
   "outputs": [],
   "source": [
    "emissions = hist[\"Close\"].to_numpy()"
   ]
  },
  {
   "cell_type": "markdown",
   "id": "7deb50d0",
   "metadata": {},
   "source": [
    "## Reshaping took a bit\n",
    "This took me a bit to figure out"
   ]
  },
  {
   "cell_type": "code",
   "execution_count": 9,
   "id": "4164cfb8",
   "metadata": {},
   "outputs": [
    {
     "data": {
      "text/plain": [
       "array([[ 2.2963872 ],\n",
       "       [ 2.2918849 ],\n",
       "       [ 2.30989599],\n",
       "       ...,\n",
       "       [17.37636566],\n",
       "       [17.77996635],\n",
       "       [17.9853096 ]])"
      ]
     },
     "execution_count": 9,
     "metadata": {},
     "output_type": "execute_result"
    }
   ],
   "source": [
    "emissions = np.atleast_2d(emissions).T\n",
    "emissions"
   ]
  },
  {
   "cell_type": "markdown",
   "id": "03eb285f",
   "metadata": {},
   "source": [
    "## Fit using Dynamax\n",
    "https://probml.github.io/dynamax/api.html#dynamax.hidden_markov_model.DiagonalGaussianMixtureHMM"
   ]
  },
  {
   "cell_type": "code",
   "execution_count": 10,
   "id": "7329aaa7",
   "metadata": {},
   "outputs": [
    {
     "name": "stderr",
     "output_type": "stream",
     "text": [
      "No GPU/TPU found, falling back to CPU. (Set TF_CPP_MIN_LOG_LEVEL=0 and rerun for more info.)\n"
     ]
    }
   ],
   "source": [
    "from dynamax.hidden_markov_model import DiagonalGaussianHMM\n",
    "\n",
    "import jax.numpy as jnp\n",
    "import jax.random as jr"
   ]
  },
  {
   "cell_type": "code",
   "execution_count": 11,
   "id": "8ae73982",
   "metadata": {},
   "outputs": [],
   "source": [
    "true_num_states = 4\n",
    "emission_dim = 1\n",
    "hmm = DiagonalGaussianHMM(true_num_states, emission_dim)"
   ]
  },
  {
   "cell_type": "code",
   "execution_count": 12,
   "id": "8402c66a",
   "metadata": {},
   "outputs": [
    {
     "name": "stderr",
     "output_type": "stream",
     "text": [
      "/home/canyon/miniconda3/envs/ssm_book_club/lib/python3.10/site-packages/sklearn/cluster/_kmeans.py:870: FutureWarning: The default value of `n_init` will change from 10 to 'auto' in 1.4. Set the value of `n_init` explicitly to suppress the warning\n",
      "  warnings.warn(\n"
     ]
    }
   ],
   "source": [
    "key = jr.PRNGKey(0)\n",
    "hmm = DiagonalGaussianHMM(4, emission_dim, transition_matrix_stickiness=10.)\n",
    "params, props = hmm.initialize(key=key, method=\"kmeans\", emissions=emissions)"
   ]
  },
  {
   "cell_type": "code",
   "execution_count": 13,
   "id": "64553491",
   "metadata": {},
   "outputs": [
    {
     "data": {
      "text/plain": [
       "ParamsDiagonalGaussianHMM(initial=ParamsStandardHMMInitialState(probs=Array([0.5464334 , 0.3061832 , 0.10259182, 0.04479165], dtype=float32)), transitions=ParamsStandardHMMTransitions(transition_matrix=Array([[0.823491  , 0.09372993, 0.05104779, 0.03173112],\n",
       "       [0.01599798, 0.76646435, 0.1116748 , 0.1058628 ],\n",
       "       [0.08503336, 0.09211437, 0.7288321 , 0.09402013],\n",
       "       [0.15564974, 0.14060031, 0.02247819, 0.68127185]], dtype=float32)), emissions=ParamsDiagonalGaussianHMMEmissions(means=Array([[17.953318 ],\n",
       "       [36.25472  ],\n",
       "       [ 4.9940476],\n",
       "       [12.42191  ]], dtype=float32), scale_diags=Array([[1.],\n",
       "       [1.],\n",
       "       [1.],\n",
       "       [1.]], dtype=float32)))"
      ]
     },
     "execution_count": 13,
     "metadata": {},
     "output_type": "execute_result"
    }
   ],
   "source": [
    "params"
   ]
  },
  {
   "cell_type": "markdown",
   "id": "f4588183",
   "metadata": {},
   "source": [
    "## Estimate Parmeters with Expectation Maximization"
   ]
  },
  {
   "cell_type": "code",
   "execution_count": 14,
   "id": "e2c7695f",
   "metadata": {},
   "outputs": [
    {
     "data": {
      "text/html": [
       "\n",
       "<style>\n",
       "    /* Turns off some styling */\n",
       "    progress {\n",
       "        /* gets rid of default border in Firefox and Opera. */\n",
       "        border: none;\n",
       "        /* Needs to be in here for Safari polyfill so background images work as expected. */\n",
       "        background-size: auto;\n",
       "    }\n",
       "    progress:not([value]), progress:not([value])::-webkit-progress-bar {\n",
       "        background: repeating-linear-gradient(45deg, #7e7e7e, #7e7e7e 10px, #5c5c5c 10px, #5c5c5c 20px);\n",
       "    }\n",
       "    .progress-bar-interrupted, .progress-bar-interrupted::-webkit-progress-bar {\n",
       "        background: #F44336;\n",
       "    }\n",
       "</style>\n"
      ],
      "text/plain": [
       "<IPython.core.display.HTML object>"
      ]
     },
     "metadata": {},
     "output_type": "display_data"
    },
    {
     "data": {
      "text/html": [
       "\n",
       "    <div>\n",
       "      <progress value='100' class='' max='100' style='width:300px; height:20px; vertical-align: middle;'></progress>\n",
       "      100.00% [100/100 00:00&lt;00:00]\n",
       "    </div>\n",
       "    "
      ],
      "text/plain": [
       "<IPython.core.display.HTML object>"
      ]
     },
     "metadata": {},
     "output_type": "display_data"
    }
   ],
   "source": [
    "params, lps = hmm.fit_em(params, props, emissions, num_iters=100)"
   ]
  },
  {
   "cell_type": "code",
   "execution_count": 15,
   "id": "2b31572a",
   "metadata": {},
   "outputs": [
    {
     "data": {
      "text/plain": [
       "ParamsDiagonalGaussianHMM(initial=ParamsStandardHMMInitialState(probs=Array([0.0714286 , 0.07142863, 0.78571445, 0.0714286 ], dtype=float32)), transitions=ParamsStandardHMMTransitions(transition_matrix=Array([[9.9044704e-01, 2.0311305e-03, 6.5405293e-05, 7.4564330e-03],\n",
       "       [7.8594340e-03, 9.9163419e-01, 2.5311176e-04, 2.5326805e-04],\n",
       "       [1.7342449e-04, 1.7342655e-04, 9.9250776e-01, 7.1454481e-03],\n",
       "       [6.7948452e-03, 5.4831184e-05, 1.7097428e-03, 9.9144053e-01]],      dtype=float32)), emissions=ParamsDiagonalGaussianHMMEmissions(means=Array([[16.277905],\n",
       "       [28.906303],\n",
       "       [ 5.284927],\n",
       "       [11.966111]], dtype=float32), scale_diags=Array([[1.6014589],\n",
       "       [7.411222 ],\n",
       "       [1.873478 ],\n",
       "       [1.3964951]], dtype=float32)))"
      ]
     },
     "execution_count": 15,
     "metadata": {},
     "output_type": "execute_result"
    }
   ],
   "source": [
    "params"
   ]
  },
  {
   "cell_type": "code",
   "execution_count": 16,
   "id": "7e7d2a06",
   "metadata": {},
   "outputs": [
    {
     "data": {
      "text/plain": [
       "Array([2, 2, 2, ..., 0, 0, 0], dtype=int32)"
      ]
     },
     "execution_count": 16,
     "metadata": {},
     "output_type": "execute_result"
    }
   ],
   "source": [
    "most_likely_states = hmm.most_likely_states(params, emissions)\n",
    "most_likely_states"
   ]
  },
  {
   "cell_type": "markdown",
   "id": "5202791e",
   "metadata": {},
   "source": [
    "## Plot of States"
   ]
  },
  {
   "cell_type": "code",
   "execution_count": 17,
   "id": "6c8b4aaa",
   "metadata": {},
   "outputs": [
    {
     "data": {
      "text/plain": [
       "[<matplotlib.lines.Line2D at 0x7f35fc64e5c0>]"
      ]
     },
     "execution_count": 17,
     "metadata": {},
     "output_type": "execute_result"
    },
    {
     "data": {
      "image/png": "[encoded data removed]",
      "text/plain": [
       "<Figure size 640x480 with 1 Axes>"
      ]
     },
     "metadata": {},
     "output_type": "display_data"
    }
   ],
   "source": [
    "plt.plot(np.arange(most_likely_states.shape[0]), most_likely_states)"
   ]
  },
  {
   "cell_type": "markdown",
   "id": "b319c61f",
   "metadata": {},
   "source": [
    "## Time Series with State Mask"
   ]
  },
  {
   "cell_type": "code",
   "execution_count": 18,
   "id": "66817d77",
   "metadata": {},
   "outputs": [
    {
     "data": {
      "image/png": "[encoded data removed]",
      "text/plain": [
       "<Figure size 1600x800 with 4 Axes>"
      ]
     },
     "metadata": {},
     "output_type": "display_data"
    }
   ],
   "source": [
    "fig, axs = plt.subplots(4,1,sharex=True, sharey=True, figsize=(16,8))\n",
    "colours = cm.rainbow(np.linspace(0, 1, 4))\n",
    "\n",
    "for i, (ax, colour) in enumerate(zip(axs, colours)):\n",
    "    # Use fancy indexing to plot data in each state.\n",
    "    mask = most_likely_states == i\n",
    "    #ax.plot(hist.reset_index()[\"Date\"].iloc[mask], hist[\"Close\"].iloc[mask], \".-\", c=colour)\n",
    "    ax.plot(hist.index[mask], hist[\"Close\"].to_numpy()[mask],  \".-\", c=colour)\n",
    "    ax.set_title(\"{0}th hidden state\".format(i))\n",
    "\n",
    "    # Format the ticks.\n",
    "\n",
    "    ax.grid(True)"
   ]
  }
 ],
 "metadata": {
  "kernelspec": {
   "display_name": "Python 3 (ipykernel)",
   "language": "python",
   "name": "python3"
  },
  "language_info": {
   "codemirror_mode": {
    "name": "ipython",
    "version": 3
   },
   "file_extension": ".py",
   "mimetype": "text/x-python",
   "name": "python",
   "nbconvert_exporter": "python",
   "pygments_lexer": "ipython3",
   "version": "3.10.4"
  }
 },
 "nbformat": 4,
 "nbformat_minor": 5
}
