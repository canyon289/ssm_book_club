{
 "cells": [
  {
   "cell_type": "code",
   "execution_count": 1,
   "id": "64441021",
   "metadata": {},
   "outputs": [
    {
     "name": "stdout",
     "output_type": "stream",
     "text": [
      "Requirement already satisfied: yfinance in /home/canyon/miniconda3/envs/ssm_book_club/lib/python3.10/site-packages (0.2.12)\n",
      "Requirement already satisfied: lxml>=4.9.1 in /home/canyon/miniconda3/envs/ssm_book_club/lib/python3.10/site-packages (from yfinance) (4.9.2)\n",
      "Requirement already satisfied: cryptography>=3.3.2 in /home/canyon/miniconda3/envs/ssm_book_club/lib/python3.10/site-packages (from yfinance) (39.0.0)\n",
      "Requirement already satisfied: html5lib>=1.1 in /home/canyon/miniconda3/envs/ssm_book_club/lib/python3.10/site-packages (from yfinance) (1.1)\n",
      "Requirement already satisfied: numpy>=1.16.5 in /home/canyon/miniconda3/envs/ssm_book_club/lib/python3.10/site-packages (from yfinance) (1.24.1)\n",
      "Requirement already satisfied: pandas>=1.3.0 in /home/canyon/miniconda3/envs/ssm_book_club/lib/python3.10/site-packages (from yfinance) (1.5.3)\n",
      "Requirement already satisfied: frozendict>=2.3.4 in /home/canyon/miniconda3/envs/ssm_book_club/lib/python3.10/site-packages (from yfinance) (2.3.5)\n",
      "Requirement already satisfied: beautifulsoup4>=4.11.1 in /home/canyon/miniconda3/envs/ssm_book_club/lib/python3.10/site-packages (from yfinance) (4.11.2)\n",
      "Requirement already satisfied: appdirs>=1.4.4 in /home/canyon/miniconda3/envs/ssm_book_club/lib/python3.10/site-packages (from yfinance) (1.4.4)\n",
      "Requirement already satisfied: multitasking>=0.0.7 in /home/canyon/miniconda3/envs/ssm_book_club/lib/python3.10/site-packages (from yfinance) (0.0.11)\n",
      "Requirement already satisfied: pytz>=2022.5 in /home/canyon/miniconda3/envs/ssm_book_club/lib/python3.10/site-packages (from yfinance) (2022.7.1)\n",
      "Requirement already satisfied: requests>=2.26 in /home/canyon/miniconda3/envs/ssm_book_club/lib/python3.10/site-packages (from yfinance) (2.28.2)\n",
      "Requirement already satisfied: soupsieve>1.2 in /home/canyon/miniconda3/envs/ssm_book_club/lib/python3.10/site-packages (from beautifulsoup4>=4.11.1->yfinance) (2.3.2.post1)\n",
      "Requirement already satisfied: cffi>=1.12 in /home/canyon/miniconda3/envs/ssm_book_club/lib/python3.10/site-packages (from cryptography>=3.3.2->yfinance) (1.15.1)\n",
      "Requirement already satisfied: six>=1.9 in /home/canyon/miniconda3/envs/ssm_book_club/lib/python3.10/site-packages (from html5lib>=1.1->yfinance) (1.16.0)\n",
      "Requirement already satisfied: webencodings in /home/canyon/miniconda3/envs/ssm_book_club/lib/python3.10/site-packages (from html5lib>=1.1->yfinance) (0.5.1)\n",
      "Requirement already satisfied: python-dateutil>=2.8.1 in /home/canyon/miniconda3/envs/ssm_book_club/lib/python3.10/site-packages (from pandas>=1.3.0->yfinance) (2.8.2)\n",
      "Requirement already satisfied: certifi>=2017.4.17 in /home/canyon/miniconda3/envs/ssm_book_club/lib/python3.10/site-packages (from requests>=2.26->yfinance) (2022.12.7)\n",
      "Requirement already satisfied: idna<4,>=2.5 in /home/canyon/miniconda3/envs/ssm_book_club/lib/python3.10/site-packages (from requests>=2.26->yfinance) (3.4)\n",
      "Requirement already satisfied: urllib3<1.27,>=1.21.1 in /home/canyon/miniconda3/envs/ssm_book_club/lib/python3.10/site-packages (from requests>=2.26->yfinance) (1.26.14)\n",
      "Requirement already satisfied: charset-normalizer<4,>=2 in /home/canyon/miniconda3/envs/ssm_book_club/lib/python3.10/site-packages (from requests>=2.26->yfinance) (2.1.1)\n",
      "Requirement already satisfied: pycparser in /home/canyon/miniconda3/envs/ssm_book_club/lib/python3.10/site-packages (from cffi>=1.12->cryptography>=3.3.2->yfinance) (2.21)\n"
     ]
    }
   ],
   "source": [
    "!pip install yfinance;"
   ]
  },
  {
   "cell_type": "markdown",
   "id": "4a01c893",
   "metadata": {},
   "source": [
    "# HMM for Stock\n",
    "https://hmmlearn.readthedocs.io/en/0.2.0/auto_examples/plot_hmm_stock_analysis.html"
   ]
  },
  {
   "cell_type": "code",
   "execution_count": 2,
   "id": "30f611cb",
   "metadata": {},
   "outputs": [],
   "source": [
    "import datetime\n",
    "\n",
    "import numpy as np\n",
    "from matplotlib import cm, pyplot as plt\n",
    "from matplotlib.dates import YearLocator, MonthLocator\n",
    "import yfinance as yf"
   ]
  },
  {
   "cell_type": "code",
   "execution_count": 3,
   "id": "aa13f671",
   "metadata": {},
   "outputs": [
    {
     "data": {
      "text/plain": [
       "2021-10-23 00:00:00-04:00    4067000064\n",
       "2021-10-26 00:00:00-04:00    4067000064\n",
       "2021-11-05 00:00:00-04:00    4073469952\n",
       "2021-11-06 00:00:00-04:00    4067000064\n",
       "2021-11-11 00:00:00-05:00    4102249984\n",
       "2021-11-11 00:00:00-05:00    4067000064\n",
       "2021-11-18 00:00:00-05:00    4097769984\n",
       "2021-11-18 00:00:00-05:00    4067000064\n",
       "2021-11-20 00:00:00-05:00    4067000064\n",
       "2021-11-20 00:00:00-05:00    4080140032\n",
       "2021-12-02 00:00:00-05:00    4117210112\n",
       "2021-12-03 00:00:00-05:00    4067000064\n",
       "2021-12-04 00:00:00-05:00    4087640064\n",
       "2021-12-04 00:00:00-05:00    4067000064\n",
       "2022-01-26 00:00:00-05:00    4141959936\n",
       "2022-01-27 00:00:00-05:00    4067000064\n",
       "2022-01-28 00:00:00-05:00    4072000000\n",
       "2022-02-04 00:00:00-05:00    4175739904\n",
       "2022-02-05 00:00:00-05:00    4072000000\n",
       "2022-02-11 00:00:00-05:00    4072000000\n",
       "2022-03-04 00:00:00-05:00    4151859968\n",
       "2022-03-05 00:00:00-05:00    4072000000\n",
       "2022-03-15 00:00:00-04:00    4203150080\n",
       "2022-03-17 00:00:00-04:00    4164689920\n",
       "2022-03-18 00:00:00-04:00    4072000000\n",
       "2022-04-02 00:00:00-04:00    4088699904\n",
       "2022-05-03 00:00:00-04:00    4088999936\n",
       "2022-05-05 00:00:00-04:00    4088999936\n",
       "2022-06-03 00:00:00-04:00    4156669952\n",
       "2022-06-05 00:00:00-04:00    4088999936\n",
       "2022-06-07 00:00:00-04:00    4093720064\n",
       "2022-06-08 00:00:00-04:00    4088999936\n",
       "2022-07-30 00:00:00-04:00    4105999872\n",
       "2022-08-02 00:00:00-04:00    4105999872\n",
       "2022-08-05 00:00:00-04:00    4205019904\n",
       "2022-08-06 00:00:00-04:00    4105999872\n",
       "2022-08-25 00:00:00-04:00    4116910080\n",
       "2022-08-26 00:00:00-04:00    4105999872\n",
       "2022-09-01 00:00:00-04:00    4105999872\n",
       "2022-09-03 00:00:00-04:00    4177019904\n",
       "2022-09-03 00:00:00-04:00    4105999872\n",
       "2022-10-29 00:00:00-04:00    4127000064\n",
       "2022-11-01 00:00:00-04:00    4127000064\n",
       "2022-11-22 00:00:00-05:00    4127000064\n",
       "2022-11-22 00:00:00-05:00    4259620096\n",
       "2022-11-25 00:00:00-05:00    4127000064\n",
       "2022-11-25 00:00:00-05:00    4147859968\n",
       "2023-01-29 00:00:00-05:00    4136999936\n",
       "2023-01-31 00:00:00-05:00    4136999936\n",
       "dtype: int64"
      ]
     },
     "execution_count": 3,
     "metadata": {},
     "output_type": "execute_result"
    }
   ],
   "source": [
    "INTC = yf.Ticker(\"INTC\")\n",
    "INTC.get_shares_full()\n"
   ]
  },
  {
   "cell_type": "code",
   "execution_count": 4,
   "id": "5bf2d1dc",
   "metadata": {},
   "outputs": [],
   "source": [
    "hist = INTC.history(start=\"1995-01-01\", end=\"2012-01-06\")\n",
    "hist.to_csv(\"stockprices.csv\")"
   ]
  },
  {
   "cell_type": "code",
   "execution_count": 5,
   "id": "3e60ade6",
   "metadata": {},
   "outputs": [
    {
     "data": {
      "text/html": [
       "<div>\n",
       "<style scoped>\n",
       "    .dataframe tbody tr th:only-of-type {\n",
       "        vertical-align: middle;\n",
       "    }\n",
       "\n",
       "    .dataframe tbody tr th {\n",
       "        vertical-align: top;\n",
       "    }\n",
       "\n",
       "    .dataframe thead th {\n",
       "        text-align: right;\n",
       "    }\n",
       "</style>\n",
       "<table border=\"1\" class=\"dataframe\">\n",
       "  <thead>\n",
       "    <tr style=\"text-align: right;\">\n",
       "      <th></th>\n",
       "      <th>Open</th>\n",
       "      <th>High</th>\n",
       "      <th>Low</th>\n",
       "      <th>Close</th>\n",
       "      <th>Volume</th>\n",
       "      <th>Dividends</th>\n",
       "      <th>Stock Splits</th>\n",
       "    </tr>\n",
       "    <tr>\n",
       "      <th>Date</th>\n",
       "      <th></th>\n",
       "      <th></th>\n",
       "      <th></th>\n",
       "      <th></th>\n",
       "      <th></th>\n",
       "      <th></th>\n",
       "      <th></th>\n",
       "    </tr>\n",
       "  </thead>\n",
       "  <tbody>\n",
       "    <tr>\n",
       "      <th>1995-01-03 00:00:00-05:00</th>\n",
       "      <td>2.291884</td>\n",
       "      <td>2.305955</td>\n",
       "      <td>2.269370</td>\n",
       "      <td>2.296387</td>\n",
       "      <td>41721600</td>\n",
       "      <td>0.0</td>\n",
       "      <td>0.0</td>\n",
       "    </tr>\n",
       "    <tr>\n",
       "      <th>1995-01-04 00:00:00-05:00</th>\n",
       "      <td>2.305393</td>\n",
       "      <td>2.318901</td>\n",
       "      <td>2.278377</td>\n",
       "      <td>2.291885</td>\n",
       "      <td>41865600</td>\n",
       "      <td>0.0</td>\n",
       "      <td>0.0</td>\n",
       "    </tr>\n",
       "    <tr>\n",
       "      <th>1995-01-05 00:00:00-05:00</th>\n",
       "      <td>2.296386</td>\n",
       "      <td>2.341414</td>\n",
       "      <td>2.291884</td>\n",
       "      <td>2.309895</td>\n",
       "      <td>60480000</td>\n",
       "      <td>0.0</td>\n",
       "      <td>0.0</td>\n",
       "    </tr>\n",
       "    <tr>\n",
       "      <th>1995-01-06 00:00:00-05:00</th>\n",
       "      <td>2.309896</td>\n",
       "      <td>2.345918</td>\n",
       "      <td>2.305393</td>\n",
       "      <td>2.341415</td>\n",
       "      <td>56316800</td>\n",
       "      <td>0.0</td>\n",
       "      <td>0.0</td>\n",
       "    </tr>\n",
       "    <tr>\n",
       "      <th>1995-01-09 00:00:00-05:00</th>\n",
       "      <td>2.336911</td>\n",
       "      <td>2.377435</td>\n",
       "      <td>2.336911</td>\n",
       "      <td>2.377435</td>\n",
       "      <td>75056000</td>\n",
       "      <td>0.0</td>\n",
       "      <td>0.0</td>\n",
       "    </tr>\n",
       "    <tr>\n",
       "      <th>...</th>\n",
       "      <td>...</td>\n",
       "      <td>...</td>\n",
       "      <td>...</td>\n",
       "      <td>...</td>\n",
       "      <td>...</td>\n",
       "      <td>...</td>\n",
       "      <td>...</td>\n",
       "    </tr>\n",
       "    <tr>\n",
       "      <th>2011-12-29 00:00:00-05:00</th>\n",
       "      <td>17.248907</td>\n",
       "      <td>17.404685</td>\n",
       "      <td>17.192260</td>\n",
       "      <td>17.383442</td>\n",
       "      <td>22319300</td>\n",
       "      <td>0.0</td>\n",
       "      <td>0.0</td>\n",
       "    </tr>\n",
       "    <tr>\n",
       "      <th>2011-12-30 00:00:00-05:00</th>\n",
       "      <td>17.298468</td>\n",
       "      <td>17.433004</td>\n",
       "      <td>17.171013</td>\n",
       "      <td>17.171013</td>\n",
       "      <td>21710100</td>\n",
       "      <td>0.0</td>\n",
       "      <td>0.0</td>\n",
       "    </tr>\n",
       "    <tr>\n",
       "      <th>2012-01-03 00:00:00-05:00</th>\n",
       "      <td>17.433007</td>\n",
       "      <td>17.624188</td>\n",
       "      <td>17.270146</td>\n",
       "      <td>17.376360</td>\n",
       "      <td>44845600</td>\n",
       "      <td>0.0</td>\n",
       "      <td>0.0</td>\n",
       "    </tr>\n",
       "    <tr>\n",
       "      <th>2012-01-04 00:00:00-05:00</th>\n",
       "      <td>17.397595</td>\n",
       "      <td>17.794121</td>\n",
       "      <td>17.369273</td>\n",
       "      <td>17.779961</td>\n",
       "      <td>47504000</td>\n",
       "      <td>0.0</td>\n",
       "      <td>0.0</td>\n",
       "    </tr>\n",
       "    <tr>\n",
       "      <th>2012-01-05 00:00:00-05:00</th>\n",
       "      <td>17.744557</td>\n",
       "      <td>18.020711</td>\n",
       "      <td>17.687911</td>\n",
       "      <td>17.985306</td>\n",
       "      <td>49490600</td>\n",
       "      <td>0.0</td>\n",
       "      <td>0.0</td>\n",
       "    </tr>\n",
       "  </tbody>\n",
       "</table>\n",
       "<p>4285 rows × 7 columns</p>\n",
       "</div>"
      ],
      "text/plain": [
       "                                Open       High        Low      Close  \\\n",
       "Date                                                                    \n",
       "1995-01-03 00:00:00-05:00   2.291884   2.305955   2.269370   2.296387   \n",
       "1995-01-04 00:00:00-05:00   2.305393   2.318901   2.278377   2.291885   \n",
       "1995-01-05 00:00:00-05:00   2.296386   2.341414   2.291884   2.309895   \n",
       "1995-01-06 00:00:00-05:00   2.309896   2.345918   2.305393   2.341415   \n",
       "1995-01-09 00:00:00-05:00   2.336911   2.377435   2.336911   2.377435   \n",
       "...                              ...        ...        ...        ...   \n",
       "2011-12-29 00:00:00-05:00  17.248907  17.404685  17.192260  17.383442   \n",
       "2011-12-30 00:00:00-05:00  17.298468  17.433004  17.171013  17.171013   \n",
       "2012-01-03 00:00:00-05:00  17.433007  17.624188  17.270146  17.376360   \n",
       "2012-01-04 00:00:00-05:00  17.397595  17.794121  17.369273  17.779961   \n",
       "2012-01-05 00:00:00-05:00  17.744557  18.020711  17.687911  17.985306   \n",
       "\n",
       "                             Volume  Dividends  Stock Splits  \n",
       "Date                                                          \n",
       "1995-01-03 00:00:00-05:00  41721600        0.0           0.0  \n",
       "1995-01-04 00:00:00-05:00  41865600        0.0           0.0  \n",
       "1995-01-05 00:00:00-05:00  60480000        0.0           0.0  \n",
       "1995-01-06 00:00:00-05:00  56316800        0.0           0.0  \n",
       "1995-01-09 00:00:00-05:00  75056000        0.0           0.0  \n",
       "...                             ...        ...           ...  \n",
       "2011-12-29 00:00:00-05:00  22319300        0.0           0.0  \n",
       "2011-12-30 00:00:00-05:00  21710100        0.0           0.0  \n",
       "2012-01-03 00:00:00-05:00  44845600        0.0           0.0  \n",
       "2012-01-04 00:00:00-05:00  47504000        0.0           0.0  \n",
       "2012-01-05 00:00:00-05:00  49490600        0.0           0.0  \n",
       "\n",
       "[4285 rows x 7 columns]"
      ]
     },
     "execution_count": 5,
     "metadata": {},
     "output_type": "execute_result"
    }
   ],
   "source": [
    "hist"
   ]
  },
  {
   "cell_type": "code",
   "execution_count": 6,
   "id": "bd4b0fbe",
   "metadata": {},
   "outputs": [
    {
     "data": {
      "text/plain": [
       "<AxesSubplot: xlabel='Date'>"
      ]
     },
     "execution_count": 6,
     "metadata": {},
     "output_type": "execute_result"
    },
    {
     "data": {
      "image/png": "[encoded data removed]",
      "text/plain": [
       "<Figure size 640x480 with 1 Axes>"
      ]
     },
     "metadata": {},
     "output_type": "display_data"
    }
   ],
   "source": [
    "hist.reset_index().plot(x=\"Date\", y=\"Open\")"
   ]
  },
  {
   "cell_type": "code",
   "execution_count": 7,
   "id": "d0c29bc9",
   "metadata": {},
   "outputs": [],
   "source": [
    "emissions = hist[\"Close\"].to_numpy()"
   ]
  },
  {
   "cell_type": "code",
   "execution_count": 8,
   "id": "4164cfb8",
   "metadata": {},
   "outputs": [
    {
     "data": {
      "text/plain": [
       "array([[ 2.29638672],\n",
       "       [ 2.29188514],\n",
       "       [ 2.3098948 ],\n",
       "       ...,\n",
       "       [17.37635994],\n",
       "       [17.77996063],\n",
       "       [17.98530579]])"
      ]
     },
     "execution_count": 8,
     "metadata": {},
     "output_type": "execute_result"
    }
   ],
   "source": [
    "emissions = np.atleast_2d(emissions).T\n",
    "emissions"
   ]
  },
  {
   "cell_type": "markdown",
   "id": "03eb285f",
   "metadata": {},
   "source": [
    "## Fit using Dynamax\n",
    "https://probml.github.io/dynamax/api.html#dynamax.hidden_markov_model.DiagonalGaussianMixtureHMM"
   ]
  },
  {
   "cell_type": "code",
   "execution_count": 9,
   "id": "7329aaa7",
   "metadata": {},
   "outputs": [
    {
     "name": "stderr",
     "output_type": "stream",
     "text": [
      "No GPU/TPU found, falling back to CPU. (Set TF_CPP_MIN_LOG_LEVEL=0 and rerun for more info.)\n"
     ]
    }
   ],
   "source": [
    "from dynamax.hidden_markov_model import DiagonalGaussianHMM\n",
    "\n",
    "import jax.numpy as jnp\n",
    "import jax.random as jr"
   ]
  },
  {
   "cell_type": "code",
   "execution_count": 10,
   "id": "8ae73982",
   "metadata": {},
   "outputs": [],
   "source": [
    "true_num_states = 4\n",
    "emission_dim = 1\n",
    "hmm = DiagonalGaussianHMM(true_num_states, emission_dim)"
   ]
  },
  {
   "cell_type": "code",
   "execution_count": 11,
   "id": "8402c66a",
   "metadata": {},
   "outputs": [
    {
     "name": "stderr",
     "output_type": "stream",
     "text": [
      "/home/canyon/miniconda3/envs/ssm_book_club/lib/python3.10/site-packages/sklearn/cluster/_kmeans.py:870: FutureWarning: The default value of `n_init` will change from 10 to 'auto' in 1.4. Set the value of `n_init` explicitly to suppress the warning\n",
      "  warnings.warn(\n"
     ]
    }
   ],
   "source": [
    "key = jr.PRNGKey(0)\n",
    "hmm = DiagonalGaussianHMM(4, emission_dim, transition_matrix_stickiness=10.)\n",
    "params, props = hmm.initialize(key=key, method=\"kmeans\", emissions=emissions)"
   ]
  },
  {
   "cell_type": "code",
   "execution_count": 12,
   "id": "64553491",
   "metadata": {},
   "outputs": [
    {
     "data": {
      "text/plain": [
       "ParamsDiagonalGaussianHMM(initial=ParamsStandardHMMInitialState(probs=Array([0.5464334 , 0.3061832 , 0.10259182, 0.04479165], dtype=float32)), transitions=ParamsStandardHMMTransitions(transition_matrix=Array([[0.823491  , 0.09372993, 0.05104779, 0.03173112],\n",
       "       [0.01599798, 0.76646435, 0.1116748 , 0.1058628 ],\n",
       "       [0.08503336, 0.09211437, 0.7288321 , 0.09402013],\n",
       "       [0.15564974, 0.14060031, 0.02247819, 0.68127185]], dtype=float32)), emissions=ParamsDiagonalGaussianHMMEmissions(means=Array([[12.42191  ],\n",
       "       [36.25472  ],\n",
       "       [17.953318 ],\n",
       "       [ 4.9940476]], dtype=float32), scale_diags=Array([[1.],\n",
       "       [1.],\n",
       "       [1.],\n",
       "       [1.]], dtype=float32)))"
      ]
     },
     "execution_count": 12,
     "metadata": {},
     "output_type": "execute_result"
    }
   ],
   "source": [
    "params"
   ]
  },
  {
   "cell_type": "code",
   "execution_count": 13,
   "id": "e2c7695f",
   "metadata": {},
   "outputs": [
    {
     "data": {
      "text/html": [
       "\n",
       "<style>\n",
       "    /* Turns off some styling */\n",
       "    progress {\n",
       "        /* gets rid of default border in Firefox and Opera. */\n",
       "        border: none;\n",
       "        /* Needs to be in here for Safari polyfill so background images work as expected. */\n",
       "        background-size: auto;\n",
       "    }\n",
       "    progress:not([value]), progress:not([value])::-webkit-progress-bar {\n",
       "        background: repeating-linear-gradient(45deg, #7e7e7e, #7e7e7e 10px, #5c5c5c 10px, #5c5c5c 20px);\n",
       "    }\n",
       "    .progress-bar-interrupted, .progress-bar-interrupted::-webkit-progress-bar {\n",
       "        background: #F44336;\n",
       "    }\n",
       "</style>\n"
      ],
      "text/plain": [
       "<IPython.core.display.HTML object>"
      ]
     },
     "metadata": {},
     "output_type": "display_data"
    },
    {
     "data": {
      "text/html": [
       "\n",
       "    <div>\n",
       "      <progress value='100' class='' max='100' style='width:300px; height:20px; vertical-align: middle;'></progress>\n",
       "      100.00% [100/100 00:00&lt;00:00]\n",
       "    </div>\n",
       "    "
      ],
      "text/plain": [
       "<IPython.core.display.HTML object>"
      ]
     },
     "metadata": {},
     "output_type": "display_data"
    }
   ],
   "source": [
    "params, lps = hmm.fit_em(params, props, emissions, num_iters=100)"
   ]
  },
  {
   "cell_type": "code",
   "execution_count": 16,
   "id": "2b31572a",
   "metadata": {},
   "outputs": [
    {
     "data": {
      "text/plain": [
       "ParamsDiagonalGaussianHMM(initial=ParamsStandardHMMInitialState(probs=Array([0.0714286 , 0.07142864, 0.0714286 , 0.78571445], dtype=float32)), transitions=ParamsStandardHMMTransitions(transition_matrix=Array([[9.9368626e-01, 5.2673800e-05, 6.2084226e-03, 5.2640731e-05],\n",
       "       [2.5166754e-04, 9.9165016e-01, 7.8466106e-03, 2.5150055e-04],\n",
       "       [6.8729199e-03, 1.9867204e-03, 9.9107671e-01, 6.3672283e-05],\n",
       "       [2.4030961e-03, 2.1847118e-04, 2.1846363e-04, 9.9715996e-01]],      dtype=float32)), emissions=ParamsDiagonalGaussianHMMEmissions(means=Array([[11.6995   ],\n",
       "       [28.845854 ],\n",
       "       [16.20563  ],\n",
       "       [ 4.4433246]], dtype=float32), scale_diags=Array([[1.5819882],\n",
       "       [7.424529 ],\n",
       "       [1.6225362],\n",
       "       [1.0106862]], dtype=float32)))"
      ]
     },
     "execution_count": 16,
     "metadata": {},
     "output_type": "execute_result"
    }
   ],
   "source": [
    "params"
   ]
  },
  {
   "cell_type": "code",
   "execution_count": 18,
   "id": "7e7d2a06",
   "metadata": {},
   "outputs": [
    {
     "data": {
      "text/plain": [
       "Array([3, 3, 3, ..., 2, 2, 2], dtype=int32)"
      ]
     },
     "execution_count": 18,
     "metadata": {},
     "output_type": "execute_result"
    }
   ],
   "source": [
    "most_likely_states = hmm.most_likely_states(params, emissions)\n",
    "most_likely_states"
   ]
  },
  {
   "cell_type": "markdown",
   "id": "5202791e",
   "metadata": {},
   "source": [
    "## Plots"
   ]
  },
  {
   "cell_type": "code",
   "execution_count": 24,
   "id": "7c3697ee",
   "metadata": {},
   "outputs": [
    {
     "data": {
      "text/html": [
       "<div>\n",
       "<style scoped>\n",
       "    .dataframe tbody tr th:only-of-type {\n",
       "        vertical-align: middle;\n",
       "    }\n",
       "\n",
       "    .dataframe tbody tr th {\n",
       "        vertical-align: top;\n",
       "    }\n",
       "\n",
       "    .dataframe thead th {\n",
       "        text-align: right;\n",
       "    }\n",
       "</style>\n",
       "<table border=\"1\" class=\"dataframe\">\n",
       "  <thead>\n",
       "    <tr style=\"text-align: right;\">\n",
       "      <th></th>\n",
       "      <th>Open</th>\n",
       "      <th>High</th>\n",
       "      <th>Low</th>\n",
       "      <th>Close</th>\n",
       "      <th>Volume</th>\n",
       "      <th>Dividends</th>\n",
       "      <th>Stock Splits</th>\n",
       "    </tr>\n",
       "    <tr>\n",
       "      <th>Date</th>\n",
       "      <th></th>\n",
       "      <th></th>\n",
       "      <th></th>\n",
       "      <th></th>\n",
       "      <th></th>\n",
       "      <th></th>\n",
       "      <th></th>\n",
       "    </tr>\n",
       "  </thead>\n",
       "  <tbody>\n",
       "    <tr>\n",
       "      <th>1995-01-03 00:00:00-05:00</th>\n",
       "      <td>2.291884</td>\n",
       "      <td>2.305955</td>\n",
       "      <td>2.269370</td>\n",
       "      <td>2.296387</td>\n",
       "      <td>41721600</td>\n",
       "      <td>0.0</td>\n",
       "      <td>0.0</td>\n",
       "    </tr>\n",
       "    <tr>\n",
       "      <th>1995-01-04 00:00:00-05:00</th>\n",
       "      <td>2.305393</td>\n",
       "      <td>2.318901</td>\n",
       "      <td>2.278377</td>\n",
       "      <td>2.291885</td>\n",
       "      <td>41865600</td>\n",
       "      <td>0.0</td>\n",
       "      <td>0.0</td>\n",
       "    </tr>\n",
       "    <tr>\n",
       "      <th>1995-01-05 00:00:00-05:00</th>\n",
       "      <td>2.296386</td>\n",
       "      <td>2.341414</td>\n",
       "      <td>2.291884</td>\n",
       "      <td>2.309895</td>\n",
       "      <td>60480000</td>\n",
       "      <td>0.0</td>\n",
       "      <td>0.0</td>\n",
       "    </tr>\n",
       "    <tr>\n",
       "      <th>1995-01-06 00:00:00-05:00</th>\n",
       "      <td>2.309896</td>\n",
       "      <td>2.345918</td>\n",
       "      <td>2.305393</td>\n",
       "      <td>2.341415</td>\n",
       "      <td>56316800</td>\n",
       "      <td>0.0</td>\n",
       "      <td>0.0</td>\n",
       "    </tr>\n",
       "    <tr>\n",
       "      <th>1995-01-09 00:00:00-05:00</th>\n",
       "      <td>2.336911</td>\n",
       "      <td>2.377435</td>\n",
       "      <td>2.336911</td>\n",
       "      <td>2.377435</td>\n",
       "      <td>75056000</td>\n",
       "      <td>0.0</td>\n",
       "      <td>0.0</td>\n",
       "    </tr>\n",
       "    <tr>\n",
       "      <th>...</th>\n",
       "      <td>...</td>\n",
       "      <td>...</td>\n",
       "      <td>...</td>\n",
       "      <td>...</td>\n",
       "      <td>...</td>\n",
       "      <td>...</td>\n",
       "      <td>...</td>\n",
       "    </tr>\n",
       "    <tr>\n",
       "      <th>2011-12-29 00:00:00-05:00</th>\n",
       "      <td>17.248907</td>\n",
       "      <td>17.404685</td>\n",
       "      <td>17.192260</td>\n",
       "      <td>17.383442</td>\n",
       "      <td>22319300</td>\n",
       "      <td>0.0</td>\n",
       "      <td>0.0</td>\n",
       "    </tr>\n",
       "    <tr>\n",
       "      <th>2011-12-30 00:00:00-05:00</th>\n",
       "      <td>17.298468</td>\n",
       "      <td>17.433004</td>\n",
       "      <td>17.171013</td>\n",
       "      <td>17.171013</td>\n",
       "      <td>21710100</td>\n",
       "      <td>0.0</td>\n",
       "      <td>0.0</td>\n",
       "    </tr>\n",
       "    <tr>\n",
       "      <th>2012-01-03 00:00:00-05:00</th>\n",
       "      <td>17.433007</td>\n",
       "      <td>17.624188</td>\n",
       "      <td>17.270146</td>\n",
       "      <td>17.376360</td>\n",
       "      <td>44845600</td>\n",
       "      <td>0.0</td>\n",
       "      <td>0.0</td>\n",
       "    </tr>\n",
       "    <tr>\n",
       "      <th>2012-01-04 00:00:00-05:00</th>\n",
       "      <td>17.397595</td>\n",
       "      <td>17.794121</td>\n",
       "      <td>17.369273</td>\n",
       "      <td>17.779961</td>\n",
       "      <td>47504000</td>\n",
       "      <td>0.0</td>\n",
       "      <td>0.0</td>\n",
       "    </tr>\n",
       "    <tr>\n",
       "      <th>2012-01-05 00:00:00-05:00</th>\n",
       "      <td>17.744557</td>\n",
       "      <td>18.020711</td>\n",
       "      <td>17.687911</td>\n",
       "      <td>17.985306</td>\n",
       "      <td>49490600</td>\n",
       "      <td>0.0</td>\n",
       "      <td>0.0</td>\n",
       "    </tr>\n",
       "  </tbody>\n",
       "</table>\n",
       "<p>4285 rows × 7 columns</p>\n",
       "</div>"
      ],
      "text/plain": [
       "                                Open       High        Low      Close  \\\n",
       "Date                                                                    \n",
       "1995-01-03 00:00:00-05:00   2.291884   2.305955   2.269370   2.296387   \n",
       "1995-01-04 00:00:00-05:00   2.305393   2.318901   2.278377   2.291885   \n",
       "1995-01-05 00:00:00-05:00   2.296386   2.341414   2.291884   2.309895   \n",
       "1995-01-06 00:00:00-05:00   2.309896   2.345918   2.305393   2.341415   \n",
       "1995-01-09 00:00:00-05:00   2.336911   2.377435   2.336911   2.377435   \n",
       "...                              ...        ...        ...        ...   \n",
       "2011-12-29 00:00:00-05:00  17.248907  17.404685  17.192260  17.383442   \n",
       "2011-12-30 00:00:00-05:00  17.298468  17.433004  17.171013  17.171013   \n",
       "2012-01-03 00:00:00-05:00  17.433007  17.624188  17.270146  17.376360   \n",
       "2012-01-04 00:00:00-05:00  17.397595  17.794121  17.369273  17.779961   \n",
       "2012-01-05 00:00:00-05:00  17.744557  18.020711  17.687911  17.985306   \n",
       "\n",
       "                             Volume  Dividends  Stock Splits  \n",
       "Date                                                          \n",
       "1995-01-03 00:00:00-05:00  41721600        0.0           0.0  \n",
       "1995-01-04 00:00:00-05:00  41865600        0.0           0.0  \n",
       "1995-01-05 00:00:00-05:00  60480000        0.0           0.0  \n",
       "1995-01-06 00:00:00-05:00  56316800        0.0           0.0  \n",
       "1995-01-09 00:00:00-05:00  75056000        0.0           0.0  \n",
       "...                             ...        ...           ...  \n",
       "2011-12-29 00:00:00-05:00  22319300        0.0           0.0  \n",
       "2011-12-30 00:00:00-05:00  21710100        0.0           0.0  \n",
       "2012-01-03 00:00:00-05:00  44845600        0.0           0.0  \n",
       "2012-01-04 00:00:00-05:00  47504000        0.0           0.0  \n",
       "2012-01-05 00:00:00-05:00  49490600        0.0           0.0  \n",
       "\n",
       "[4285 rows x 7 columns]"
      ]
     },
     "execution_count": 24,
     "metadata": {},
     "output_type": "execute_result"
    }
   ],
   "source": [
    "hist"
   ]
  },
  {
   "cell_type": "code",
   "execution_count": 36,
   "id": "d72f94dd",
   "metadata": {},
   "outputs": [
    {
     "data": {
      "text/plain": [
       "Date\n",
       "1995-01-03 00:00:00-05:00    2.296387\n",
       "1995-01-03 00:00:00-05:00    2.296387\n",
       "1995-01-03 00:00:00-05:00    2.296387\n",
       "1995-01-03 00:00:00-05:00    2.296387\n",
       "1995-01-03 00:00:00-05:00    2.296387\n",
       "                               ...   \n",
       "1995-01-03 00:00:00-05:00    2.296387\n",
       "1995-01-03 00:00:00-05:00    2.296387\n",
       "1995-01-03 00:00:00-05:00    2.296387\n",
       "1995-01-03 00:00:00-05:00    2.296387\n",
       "1995-01-03 00:00:00-05:00    2.296387\n",
       "Name: Close, Length: 4285, dtype: float64"
      ]
     },
     "execution_count": 36,
     "metadata": {},
     "output_type": "execute_result"
    }
   ],
   "source": [
    "hist[\"Close\"].iloc[mask]"
   ]
  },
  {
   "cell_type": "code",
   "execution_count": 39,
   "id": "01b005b6",
   "metadata": {},
   "outputs": [
    {
     "data": {
      "text/plain": [
       "DatetimeIndex(['1996-10-11 00:00:00-04:00', '1996-10-14 00:00:00-04:00',\n",
       "               '1996-10-15 00:00:00-04:00', '1996-10-16 00:00:00-04:00',\n",
       "               '1996-10-17 00:00:00-04:00', '1996-10-18 00:00:00-04:00',\n",
       "               '1996-10-21 00:00:00-04:00', '1996-10-22 00:00:00-04:00',\n",
       "               '1996-10-23 00:00:00-04:00', '1996-10-24 00:00:00-04:00',\n",
       "               ...\n",
       "               '2010-10-20 00:00:00-04:00', '2010-10-21 00:00:00-04:00',\n",
       "               '2010-10-22 00:00:00-04:00', '2010-10-25 00:00:00-04:00',\n",
       "               '2010-10-26 00:00:00-04:00', '2010-10-27 00:00:00-04:00',\n",
       "               '2010-10-28 00:00:00-04:00', '2010-10-29 00:00:00-04:00',\n",
       "               '2010-11-01 00:00:00-04:00', '2010-11-02 00:00:00-04:00'],\n",
       "              dtype='datetime64[ns, America/New_York]', name='Date', length=1885, freq=None)"
      ]
     },
     "execution_count": 39,
     "metadata": {},
     "output_type": "execute_result"
    }
   ],
   "source": [
    "hist.index[mask]"
   ]
  },
  {
   "cell_type": "code",
   "execution_count": 52,
   "id": "6c8b4aaa",
   "metadata": {},
   "outputs": [
    {
     "data": {
      "text/plain": [
       "[<matplotlib.lines.Line2D at 0x7f462b1240d0>]"
      ]
     },
     "execution_count": 52,
     "metadata": {},
     "output_type": "execute_result"
    },
    {
     "data": {
      "image/png": "[encoded data removed]",
      "text/plain": [
       "<Figure size 640x480 with 1 Axes>"
      ]
     },
     "metadata": {},
     "output_type": "display_data"
    }
   ],
   "source": [
    "plt.plot(np.arange(most_likely_states.shape[0]), most_likely_states)"
   ]
  },
  {
   "cell_type": "code",
   "execution_count": 53,
   "id": "8868a9c7",
   "metadata": {},
   "outputs": [
    {
     "data": {
      "text/plain": [
       "[<matplotlib.lines.Line2D at 0x7f462beac7c0>]"
      ]
     },
     "execution_count": 53,
     "metadata": {},
     "output_type": "execute_result"
    },
    {
     "data": {
      "image/png": "[encoded data removed]",
      "text/plain": [
       "<Figure size 640x480 with 1 Axes>"
      ]
     },
     "metadata": {},
     "output_type": "display_data"
    }
   ],
   "source": [
    "plt.plot(hist.index, most_likely_states)"
   ]
  },
  {
   "cell_type": "code",
   "execution_count": 55,
   "id": "8f0be8e5",
   "metadata": {},
   "outputs": [
    {
     "data": {
      "text/plain": [
       "Array(1568, dtype=int32)"
      ]
     },
     "execution_count": 55,
     "metadata": {},
     "output_type": "execute_result"
    }
   ],
   "source": [
    "mask = most_likely_states == 2\n",
    "mask.sum()"
   ]
  },
  {
   "cell_type": "code",
   "execution_count": 61,
   "id": "66817d77",
   "metadata": {},
   "outputs": [
    {
     "data": {
      "image/png": "[encoded data removed]",
      "text/plain": [
       "<Figure size 640x480 with 4 Axes>"
      ]
     },
     "metadata": {},
     "output_type": "display_data"
    }
   ],
   "source": [
    "\n",
    "fig, axs = plt.subplots(4,1,sharex=True, sharey=True)\n",
    "colours = cm.rainbow(np.linspace(0, 1, 4))\n",
    "\n",
    "for i, (ax, colour) in enumerate(zip(axs, colours)):\n",
    "    # Use fancy indexing to plot data in each state.\n",
    "    mask = most_likely_states == i\n",
    "    #ax.plot(hist.reset_index()[\"Date\"].iloc[mask], hist[\"Close\"].iloc[mask], \".-\", c=colour)\n",
    "    ax.plot(hist.index[mask], hist[\"Close\"].to_numpy()[mask],  \".-\", c=colour)\n",
    "    ax.set_title(\"{0}th hidden state\".format(i))\n",
    "\n",
    "    # Format the ticks.\n",
    "\n",
    "    ax.grid(True)"
   ]
  }
 ],
 "metadata": {
  "kernelspec": {
   "display_name": "Python 3 (ipykernel)",
   "language": "python",
   "name": "python3"
  },
  "language_info": {
   "codemirror_mode": {
    "name": "ipython",
    "version": 3
   },
   "file_extension": ".py",
   "mimetype": "text/x-python",
   "name": "python",
   "nbconvert_exporter": "python",
   "pygments_lexer": "ipython3",
   "version": "3.10.4"
  }
 },
 "nbformat": 4,
 "nbformat_minor": 5
}
